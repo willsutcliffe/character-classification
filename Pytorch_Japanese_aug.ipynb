{
 "cells": [
  {
   "cell_type": "markdown",
   "id": "c7672f45",
   "metadata": {},
   "source": [
    "## Load data \n",
    "\n",
    "* Use ETL Data Reader to load hiragana\n"
   ]
  },
  {
   "cell_type": "code",
   "execution_count": 29,
   "id": "2ec9d423",
   "metadata": {},
   "outputs": [
    {
     "name": "stdout",
     "output_type": "stream",
     "text": [
      "Loading all data set files (ETL9_x) from: ./ETL_data_set_folder/ETL9...\n"
     ]
    },
    {
     "data": {
      "application/vnd.jupyter.widget-view+json": {
       "model_id": "",
       "version_major": 2,
       "version_minor": 0
      },
      "text/plain": [
       "  0%|          | 0/4780 [00:00<?, ?it/s]"
      ]
     },
     "metadata": {},
     "output_type": "display_data"
    },
    {
     "data": {
      "application/vnd.jupyter.widget-view+json": {
       "model_id": "",
       "version_major": 2,
       "version_minor": 0
      },
      "text/plain": [
       "  0%|          | 0/4780 [00:00<?, ?it/s]"
      ]
     },
     "metadata": {},
     "output_type": "display_data"
    },
    {
     "data": {
      "application/vnd.jupyter.widget-view+json": {
       "model_id": "",
       "version_major": 2,
       "version_minor": 0
      },
      "text/plain": [
       "  0%|          | 0/4780 [00:00<?, ?it/s]"
      ]
     },
     "metadata": {},
     "output_type": "display_data"
    },
    {
     "data": {
      "application/vnd.jupyter.widget-view+json": {
       "model_id": "",
       "version_major": 2,
       "version_minor": 0
      },
      "text/plain": [
       "  0%|          | 0/4780 [00:00<?, ?it/s]"
      ]
     },
     "metadata": {},
     "output_type": "display_data"
    },
    {
     "data": {
      "application/vnd.jupyter.widget-view+json": {
       "model_id": "",
       "version_major": 2,
       "version_minor": 0
      },
      "text/plain": [
       "  0%|          | 0/4780 [00:00<?, ?it/s]"
      ]
     },
     "metadata": {},
     "output_type": "display_data"
    },
    {
     "data": {
      "application/vnd.jupyter.widget-view+json": {
       "model_id": "",
       "version_major": 2,
       "version_minor": 0
      },
      "text/plain": [
       "  0%|          | 0/4780 [00:00<?, ?it/s]"
      ]
     },
     "metadata": {},
     "output_type": "display_data"
    },
    {
     "data": {
      "application/vnd.jupyter.widget-view+json": {
       "model_id": "",
       "version_major": 2,
       "version_minor": 0
      },
      "text/plain": [
       "  0%|          | 0/4780 [00:00<?, ?it/s]"
      ]
     },
     "metadata": {},
     "output_type": "display_data"
    },
    {
     "data": {
      "application/vnd.jupyter.widget-view+json": {
       "model_id": "",
       "version_major": 2,
       "version_minor": 0
      },
      "text/plain": [
       "  0%|          | 0/4780 [00:00<?, ?it/s]"
      ]
     },
     "metadata": {},
     "output_type": "display_data"
    },
    {
     "data": {
      "application/vnd.jupyter.widget-view+json": {
       "model_id": "",
       "version_major": 2,
       "version_minor": 0
      },
      "text/plain": [
       "  0%|          | 0/4780 [00:00<?, ?it/s]"
      ]
     },
     "metadata": {},
     "output_type": "display_data"
    },
    {
     "data": {
      "application/vnd.jupyter.widget-view+json": {
       "model_id": "",
       "version_major": 2,
       "version_minor": 0
      },
      "text/plain": [
       "  0%|          | 0/4780 [00:00<?, ?it/s]"
      ]
     },
     "metadata": {},
     "output_type": "display_data"
    },
    {
     "data": {
      "application/vnd.jupyter.widget-view+json": {
       "model_id": "",
       "version_major": 2,
       "version_minor": 0
      },
      "text/plain": [
       "  0%|          | 0/4780 [00:00<?, ?it/s]"
      ]
     },
     "metadata": {},
     "output_type": "display_data"
    },
    {
     "data": {
      "application/vnd.jupyter.widget-view+json": {
       "model_id": "",
       "version_major": 2,
       "version_minor": 0
      },
      "text/plain": [
       "  0%|          | 0/4780 [00:00<?, ?it/s]"
      ]
     },
     "metadata": {},
     "output_type": "display_data"
    },
    {
     "data": {
      "application/vnd.jupyter.widget-view+json": {
       "model_id": "",
       "version_major": 2,
       "version_minor": 0
      },
      "text/plain": [
       "  0%|          | 0/4780 [00:00<?, ?it/s]"
      ]
     },
     "metadata": {},
     "output_type": "display_data"
    },
    {
     "data": {
      "application/vnd.jupyter.widget-view+json": {
       "model_id": "",
       "version_major": 2,
       "version_minor": 0
      },
      "text/plain": [
       "  0%|          | 0/4780 [00:00<?, ?it/s]"
      ]
     },
     "metadata": {},
     "output_type": "display_data"
    },
    {
     "data": {
      "application/vnd.jupyter.widget-view+json": {
       "model_id": "",
       "version_major": 2,
       "version_minor": 0
      },
      "text/plain": [
       "  0%|          | 0/4780 [00:00<?, ?it/s]"
      ]
     },
     "metadata": {},
     "output_type": "display_data"
    },
    {
     "data": {
      "application/vnd.jupyter.widget-view+json": {
       "model_id": "",
       "version_major": 2,
       "version_minor": 0
      },
      "text/plain": [
       "  0%|          | 0/4780 [00:00<?, ?it/s]"
      ]
     },
     "metadata": {},
     "output_type": "display_data"
    },
    {
     "data": {
      "application/vnd.jupyter.widget-view+json": {
       "model_id": "",
       "version_major": 2,
       "version_minor": 0
      },
      "text/plain": [
       "  0%|          | 0/4780 [00:00<?, ?it/s]"
      ]
     },
     "metadata": {},
     "output_type": "display_data"
    },
    {
     "data": {
      "application/vnd.jupyter.widget-view+json": {
       "model_id": "",
       "version_major": 2,
       "version_minor": 0
      },
      "text/plain": [
       "  0%|          | 0/4780 [00:00<?, ?it/s]"
      ]
     },
     "metadata": {},
     "output_type": "display_data"
    },
    {
     "data": {
      "application/vnd.jupyter.widget-view+json": {
       "model_id": "",
       "version_major": 2,
       "version_minor": 0
      },
      "text/plain": [
       "  0%|          | 0/4780 [00:00<?, ?it/s]"
      ]
     },
     "metadata": {},
     "output_type": "display_data"
    },
    {
     "data": {
      "application/vnd.jupyter.widget-view+json": {
       "model_id": "",
       "version_major": 2,
       "version_minor": 0
      },
      "text/plain": [
       "  0%|          | 0/4780 [00:00<?, ?it/s]"
      ]
     },
     "metadata": {},
     "output_type": "display_data"
    },
    {
     "data": {
      "application/vnd.jupyter.widget-view+json": {
       "model_id": "",
       "version_major": 2,
       "version_minor": 0
      },
      "text/plain": [
       "  0%|          | 0/4780 [00:00<?, ?it/s]"
      ]
     },
     "metadata": {},
     "output_type": "display_data"
    },
    {
     "data": {
      "application/vnd.jupyter.widget-view+json": {
       "model_id": "",
       "version_major": 2,
       "version_minor": 0
      },
      "text/plain": [
       "  0%|          | 0/4780 [00:00<?, ?it/s]"
      ]
     },
     "metadata": {},
     "output_type": "display_data"
    },
    {
     "data": {
      "application/vnd.jupyter.widget-view+json": {
       "model_id": "",
       "version_major": 2,
       "version_minor": 0
      },
      "text/plain": [
       "  0%|          | 0/4780 [00:00<?, ?it/s]"
      ]
     },
     "metadata": {},
     "output_type": "display_data"
    },
    {
     "data": {
      "application/vnd.jupyter.widget-view+json": {
       "model_id": "",
       "version_major": 2,
       "version_minor": 0
      },
      "text/plain": [
       "  0%|          | 0/4780 [00:00<?, ?it/s]"
      ]
     },
     "metadata": {},
     "output_type": "display_data"
    },
    {
     "data": {
      "application/vnd.jupyter.widget-view+json": {
       "model_id": "",
       "version_major": 2,
       "version_minor": 0
      },
      "text/plain": [
       "  0%|          | 0/4780 [00:00<?, ?it/s]"
      ]
     },
     "metadata": {},
     "output_type": "display_data"
    },
    {
     "data": {
      "application/vnd.jupyter.widget-view+json": {
       "model_id": "",
       "version_major": 2,
       "version_minor": 0
      },
      "text/plain": [
       "  0%|          | 0/4780 [00:00<?, ?it/s]"
      ]
     },
     "metadata": {},
     "output_type": "display_data"
    },
    {
     "data": {
      "application/vnd.jupyter.widget-view+json": {
       "model_id": "",
       "version_major": 2,
       "version_minor": 0
      },
      "text/plain": [
       "  0%|          | 0/4780 [00:00<?, ?it/s]"
      ]
     },
     "metadata": {},
     "output_type": "display_data"
    },
    {
     "data": {
      "application/vnd.jupyter.widget-view+json": {
       "model_id": "",
       "version_major": 2,
       "version_minor": 0
      },
      "text/plain": [
       "  0%|          | 0/4780 [00:00<?, ?it/s]"
      ]
     },
     "metadata": {},
     "output_type": "display_data"
    },
    {
     "data": {
      "application/vnd.jupyter.widget-view+json": {
       "model_id": "",
       "version_major": 2,
       "version_minor": 0
      },
      "text/plain": [
       "  0%|          | 0/4780 [00:00<?, ?it/s]"
      ]
     },
     "metadata": {},
     "output_type": "display_data"
    },
    {
     "data": {
      "application/vnd.jupyter.widget-view+json": {
       "model_id": "",
       "version_major": 2,
       "version_minor": 0
      },
      "text/plain": [
       "  0%|          | 0/4780 [00:00<?, ?it/s]"
      ]
     },
     "metadata": {},
     "output_type": "display_data"
    },
    {
     "data": {
      "application/vnd.jupyter.widget-view+json": {
       "model_id": "",
       "version_major": 2,
       "version_minor": 0
      },
      "text/plain": [
       "  0%|          | 0/4780 [00:00<?, ?it/s]"
      ]
     },
     "metadata": {},
     "output_type": "display_data"
    },
    {
     "data": {
      "application/vnd.jupyter.widget-view+json": {
       "model_id": "",
       "version_major": 2,
       "version_minor": 0
      },
      "text/plain": [
       "  0%|          | 0/4780 [00:00<?, ?it/s]"
      ]
     },
     "metadata": {},
     "output_type": "display_data"
    },
    {
     "data": {
      "application/vnd.jupyter.widget-view+json": {
       "model_id": "",
       "version_major": 2,
       "version_minor": 0
      },
      "text/plain": [
       "  0%|          | 0/956 [00:00<?, ?it/s]"
      ]
     },
     "metadata": {},
     "output_type": "display_data"
    },
    {
     "name": "stdout",
     "output_type": "stream",
     "text": [
      "['あ' 'い' 'う' ... 'わ' 'を' 'ん']\n"
     ]
    }
   ],
   "source": [
    "import numpy as np\n",
    "from etldr.etl_data_reader import ETLDataReader\n",
    "\n",
    "path_to_data_set = \"./ETL_data_set_folder/\"\n",
    "\n",
    "\n",
    "reader = ETLDataReader(path_to_data_set)\n",
    "\n",
    "from etldr.etl_data_names import ETLDataNames\n",
    "from etldr.etl_character_groups import ETLCharacterGroups\n",
    "\n",
    "#include = [ETLCharacterGroups.katakana]\n",
    "include = [ ETLCharacterGroups.hiragana ]\n",
    "#include = [ ETLCharacterGroups.katakana ]\n",
    "imgs, labels = reader.read_dataset_part(ETLDataNames.ETL9, include)\n",
    "\n",
    "print(labels)"
   ]
  },
  {
   "cell_type": "markdown",
   "id": "1184c1c0",
   "metadata": {},
   "source": [
    "* View shape and one example"
   ]
  },
  {
   "cell_type": "code",
   "execution_count": 30,
   "id": "5150c81c",
   "metadata": {},
   "outputs": [
    {
     "data": {
      "text/plain": [
       "(12075, 64, 64, 1)"
      ]
     },
     "execution_count": 30,
     "metadata": {},
     "output_type": "execute_result"
    }
   ],
   "source": [
    "imgs.shape"
   ]
  },
  {
   "cell_type": "code",
   "execution_count": 31,
   "id": "24114328",
   "metadata": {},
   "outputs": [
    {
     "data": {
      "text/plain": [
       "12075"
      ]
     },
     "execution_count": 31,
     "metadata": {},
     "output_type": "execute_result"
    }
   ],
   "source": [
    "len(imgs)"
   ]
  },
  {
   "cell_type": "code",
   "execution_count": 32,
   "id": "e2cafd26",
   "metadata": {},
   "outputs": [
    {
     "data": {
      "text/plain": [
       "<matplotlib.image.AxesImage at 0x7f752b5a4850>"
      ]
     },
     "execution_count": 32,
     "metadata": {},
     "output_type": "execute_result"
    },
    {
     "data": {
      "image/png": "[encoded data removed]",
      "text/plain": [
       "<Figure size 640x480 with 1 Axes>"
      ]
     },
     "metadata": {},
     "output_type": "display_data"
    }
   ],
   "source": [
    "import matplotlib.pyplot as plt\n",
    "plt.imshow(imgs[0])"
   ]
  },
  {
   "cell_type": "code",
   "execution_count": 33,
   "id": "ce8bce21",
   "metadata": {},
   "outputs": [
    {
     "data": {
      "text/plain": [
       "75"
      ]
     },
     "execution_count": 33,
     "metadata": {},
     "output_type": "execute_result"
    }
   ],
   "source": [
    "import numpy as np\n",
    "\n",
    "np.unique(labels)\n",
    "encoding={}\n",
    "len(np.unique(labels))"
   ]
  },
  {
   "cell_type": "markdown",
   "id": "7e4747ce",
   "metadata": {},
   "source": [
    "* generate one hot coding of labels"
   ]
  },
  {
   "cell_type": "code",
   "execution_count": 34,
   "id": "b85f9ccc",
   "metadata": {},
   "outputs": [],
   "source": [
    "for i, label in enumerate(np.unique(labels)):\n",
    "    encoding[label] = i"
   ]
  },
  {
   "cell_type": "code",
   "execution_count": 35,
   "id": "7742f983",
   "metadata": {},
   "outputs": [],
   "source": [
    "decoding={}\n",
    "for key, val in encoding.items():\n",
    "    decoding[val] = key"
   ]
  },
  {
   "cell_type": "code",
   "execution_count": 36,
   "id": "52fb4326",
   "metadata": {},
   "outputs": [],
   "source": [
    "import pickle\n",
    "with open('labels.pkl', 'wb') as f:\n",
    "    pickle.dump(decoding, f)"
   ]
  },
  {
   "cell_type": "code",
   "execution_count": 37,
   "id": "2ce24ab3",
   "metadata": {},
   "outputs": [],
   "source": [
    "imgsblack =1 - imgs"
   ]
  },
  {
   "cell_type": "code",
   "execution_count": 38,
   "id": "3155b6f6",
   "metadata": {},
   "outputs": [],
   "source": [
    "y = map(lambda x: encoding[x], labels)\n",
    "y = np.array(list(y))"
   ]
  },
  {
   "cell_type": "markdown",
   "id": "aab43af5",
   "metadata": {},
   "source": [
    "* Let's look at 30 examples"
   ]
  },
  {
   "cell_type": "code",
   "execution_count": 39,
   "id": "88752bc2",
   "metadata": {},
   "outputs": [
    {
     "data": {
      "image/png": "[encoded data removed]",
      "text/plain": [
       "<Figure size 640x480 with 30 Axes>"
      ]
     },
     "metadata": {},
     "output_type": "display_data"
    }
   ],
   "source": [
    "\n",
    "import matplotlib.pyplot as plt\n",
    "\n",
    "figure = plt.figure()\n",
    "num_of_images = 30\n",
    "\n",
    "for index in range(1, num_of_images + 1):\n",
    "    plt.subplot(5, 10, index)\n",
    "    plt.axis('off')\n",
    "    plt.imshow(imgsblack[index]*255., cmap='gray_r')"
   ]
  },
  {
   "cell_type": "code",
   "execution_count": 40,
   "id": "5748eed5",
   "metadata": {},
   "outputs": [],
   "source": [
    "X = imgs"
   ]
  },
  {
   "cell_type": "markdown",
   "id": "de64db62",
   "metadata": {},
   "source": [
    "## Prepare data for training"
   ]
  },
  {
   "cell_type": "code",
   "execution_count": 41,
   "id": "7c6690da",
   "metadata": {},
   "outputs": [],
   "source": [
    "import torch\n",
    "import torch.nn as nn\n",
    "import torch.nn.functional as F\n",
    "from torch.utils.data import DataLoader, TensorDataset\n",
    "from torchvision import datasets, transforms\n",
    "from torchvision.utils import make_grid\n",
    "\n",
    "import numpy as np\n",
    "import pandas as pd\n",
    "from sklearn.metrics import confusion_matrix\n",
    "import matplotlib.pyplot as plt\n",
    "%matplotlib inline\n",
    "from sklearn.utils import shuffle\n",
    "from pathlib import Path"
   ]
  },
  {
   "cell_type": "code",
   "execution_count": 42,
   "id": "c16710ff",
   "metadata": {},
   "outputs": [],
   "source": [
    "X= np.transpose(X, (0,3,1,2))"
   ]
  },
  {
   "cell_type": "code",
   "execution_count": 43,
   "id": "6c79f726",
   "metadata": {},
   "outputs": [],
   "source": [
    "from sklearn.model_selection import train_test_split\n",
    "X_train, X_val, y_train, y_val = train_test_split(\n",
    "     X, y, test_size=0.1, random_state=42)"
   ]
  },
  {
   "cell_type": "code",
   "execution_count": 44,
   "id": "7f3c6352",
   "metadata": {},
   "outputs": [
    {
     "data": {
      "text/plain": [
       "(12075, 1, 64, 64)"
      ]
     },
     "execution_count": 44,
     "metadata": {},
     "output_type": "execute_result"
    }
   ],
   "source": [
    "X.shape"
   ]
  },
  {
   "cell_type": "markdown",
   "id": "118e1ddd",
   "metadata": {},
   "source": [
    "* possible to use tensor datasets"
   ]
  },
  {
   "cell_type": "code",
   "execution_count": 45,
   "id": "8ad6a675",
   "metadata": {},
   "outputs": [],
   "source": [
    "train_data = TensorDataset( torch.tensor(X_train,dtype=torch.float), torch.tensor(y_train,dtype=torch.int64) ) \n",
    "val_data = TensorDataset(torch.tensor(X_val,dtype=torch.float), torch.tensor(y_val,dtype=torch.int64))\n",
    "\n",
    "train_loader = DataLoader(train_data, batch_size=32, shuffle=True,pin_memory=True)\n",
    "val_loader = DataLoader(val_data, batch_size=32, shuffle=True, pin_memory=True)"
   ]
  },
  {
   "cell_type": "code",
   "execution_count": 46,
   "id": "f4330e5d",
   "metadata": {},
   "outputs": [
    {
     "name": "stdout",
     "output_type": "stream",
     "text": [
      "(3, 266, 530)\n"
     ]
    },
    {
     "data": {
      "image/png": "[encoded data removed]",
      "text/plain": [
       "<Figure size 640x480 with 1 Axes>"
      ]
     },
     "metadata": {},
     "output_type": "display_data"
    },
    {
     "name": "stdout",
     "output_type": "stream",
     "text": [
      "288104664559610757121277224794228265571636924465669255944\n"
     ]
    }
   ],
   "source": [
    "import torchvision\n",
    "\n",
    "import matplotlib.pyplot as plt\n",
    "import numpy as np\n",
    "\n",
    "\n",
    "def imshow(img):\n",
    "    img = img   \n",
    "    npimg = img.numpy()\n",
    "    print(npimg.shape)\n",
    "    plt.imshow(np.transpose(npimg, (1, 2, 0)))\n",
    "    plt.show()\n",
    "\n",
    "\n",
    "dataiter = iter(train_loader)\n",
    "images, blabels = next(dataiter)\n",
    "\n",
    "imshow(torchvision.utils.make_grid(images))\n",
    "\n",
    "print(''.join('%1s' % blabels[j].numpy() for j in range(32)))"
   ]
  },
  {
   "cell_type": "code",
   "execution_count": 47,
   "id": "e27822c5",
   "metadata": {},
   "outputs": [
    {
     "data": {
      "text/plain": [
       "torch.Size([32, 1, 64, 64])"
      ]
     },
     "execution_count": 47,
     "metadata": {},
     "output_type": "execute_result"
    }
   ],
   "source": [
    "images.shape"
   ]
  },
  {
   "cell_type": "code",
   "execution_count": 48,
   "id": "038a0630",
   "metadata": {},
   "outputs": [
    {
     "data": {
      "text/plain": [
       "array(['あ', 'い', 'う', ..., 'わ', 'を', 'ん'], dtype='<U1')"
      ]
     },
     "execution_count": 48,
     "metadata": {},
     "output_type": "execute_result"
    }
   ],
   "source": [
    "labels"
   ]
  },
  {
   "cell_type": "code",
   "execution_count": 49,
   "id": "9c44b67e",
   "metadata": {},
   "outputs": [
    {
     "name": "stdout",
     "output_type": "stream",
     "text": [
      "/bin/bash: /home/sutclw/anaconda3/envs/torch/lib/libtinfo.so.6: no version information available (required by /bin/bash)\r\n",
      "train  validation\r\n"
     ]
    }
   ],
   "source": [
    "!ls Data/Hiragana/"
   ]
  },
  {
   "cell_type": "code",
   "execution_count": 52,
   "id": "02a7371e",
   "metadata": {},
   "outputs": [],
   "source": [
    "path = 'Data/Hiragana'\n",
    "datatypes = ['validation', 'train']\n",
    "data = {'train': (X_train,y_train), 'validation' : (X_val,y_val)}\n",
    "for datatype in data.keys():\n",
    "    \n",
    "    for i in range(len(labels)):\n",
    "        Path(f\"{path}/{datatype}/{labels[i]}\").mkdir(parents=True, exist_ok=True)\n",
    "    X, y = data[datatype]\n",
    "    for i in range(len(y)):\n",
    "        from PIL import Image\n",
    "        #print(X[i].shape)\n",
    "        im = Image.fromarray((X[i]*255).reshape((64, 64)).astype('uint8'))\n",
    "        im.save(f\"{path}/{datatype}/{decoding[y[i]]}/example{i}.jpeg\")\n"
   ]
  },
  {
   "cell_type": "code",
   "execution_count": 53,
   "id": "5835db0b",
   "metadata": {},
   "outputs": [
    {
     "name": "stdout",
     "output_type": "stream",
     "text": [
      "Images:  12075\n"
     ]
    }
   ],
   "source": [
    "import os\n",
    "\n",
    "path = 'Data/Hiragana'\n",
    "img_names = []\n",
    "\n",
    "for folder, subfolders, filenames in os.walk(path):\n",
    "    for img in filenames:\n",
    "        img_names.append(folder+'/'+img)\n",
    "        \n",
    "print('Images: ',len(img_names))"
   ]
  },
  {
   "cell_type": "code",
   "execution_count": 54,
   "id": "9d3d8f52",
   "metadata": {},
   "outputs": [],
   "source": [
    "\n",
    "data_transforms = {\n",
    "    'train': transforms.Compose([\n",
    "        transforms.Resize((64,64)),\n",
    "        transforms.Grayscale(num_output_channels = 1),\n",
    "        transforms.ToTensor(),\n",
    "        transforms.Normalize((0.5, ), (0.5, )),\n",
    "        transforms.RandomAffine(degrees = 10, translate = (0.05,0.05), shear = 5, fill=0), \n",
    "        transforms.RandomRotation(10, fill=0),\n",
    "        \n",
    "        # data aug transformations only when training to provide more robustness to such\n",
    "        # transformations\n",
    "    ]),\n",
    "    'val': transforms.Compose([\n",
    "        transforms.Resize((64,64)),\n",
    "        transforms.Grayscale(num_output_channels = 1),\n",
    "        transforms.ToTensor(),\n",
    "        transforms.Normalize((0.5, ), (0.5, )),\n",
    "    ])\n",
    "}"
   ]
  },
  {
   "cell_type": "code",
   "execution_count": 55,
   "id": "4ef33710",
   "metadata": {},
   "outputs": [
    {
     "data": {
      "text/plain": [
       "75"
      ]
     },
     "execution_count": 55,
     "metadata": {},
     "output_type": "execute_result"
    }
   ],
   "source": [
    "len(class_names)"
   ]
  },
  {
   "cell_type": "code",
   "execution_count": 57,
   "id": "f84620d2",
   "metadata": {},
   "outputs": [
    {
     "name": "stdout",
     "output_type": "stream",
     "text": [
      "['あ', 'い', 'う', 'え', 'お', 'か', 'が', 'き', 'ぎ', 'く', 'ぐ', 'け', 'げ', 'こ', 'ご', 'さ', 'ざ', 'し', 'じ', 'す', 'ず', 'せ', 'ぜ', 'そ', 'ぞ', 'た', 'だ', 'ち', 'ぢ', 'っ', 'つ', 'づ', 'て', 'で', 'と', 'ど', 'な', 'に', 'ぬ', 'ね', 'の', 'は', 'ば', 'ぱ', 'ひ', 'び', 'ぴ', 'ふ', 'ぶ', 'ぷ', 'へ', 'べ', 'ぺ', 'ほ', 'ぼ', 'ぽ', 'ま', 'み', 'む', 'め', 'も', 'ゃ', 'や', 'ゅ', 'ゆ', 'ょ', 'よ', 'ら', 'り', 'る', 'れ', 'ろ', 'わ', 'を', 'ん']\n",
      "Training images available: 10867\n",
      "Testing images available:  1208\n"
     ]
    }
   ],
   "source": [
    "root = 'Data/Hiragana'\n",
    "\n",
    "train_data = datasets.ImageFolder(os.path.join(root, 'train'), transform=data_transforms['train'])\n",
    "val_data = datasets.ImageFolder(os.path.join(root, 'validation'), transform=data_transforms['val'])\n",
    "\n",
    "torch.manual_seed(42)\n",
    "train_loader = DataLoader(train_data, batch_size=32, shuffle=True)\n",
    "val_loader = DataLoader(val_data, batch_size=32, shuffle=True)\n",
    "\n",
    "class_names = train_data.classes\n",
    "\n",
    "print(class_names)\n",
    "print(f'Training images available: {len(train_data)}')\n",
    "print(f'Testing images available:  {len(val_data)}')"
   ]
  },
  {
   "cell_type": "code",
   "execution_count": 58,
   "id": "14370be6",
   "metadata": {},
   "outputs": [],
   "source": [
    "import pickle\n",
    "with open('labels2.pkl', 'wb') as f:\n",
    "    pickle.dump(class_names, f)"
   ]
  },
  {
   "cell_type": "markdown",
   "id": "b537f235",
   "metadata": {},
   "source": [
    "## Setting up the neural network"
   ]
  },
  {
   "cell_type": "code",
   "execution_count": 59,
   "id": "b847b6e4",
   "metadata": {},
   "outputs": [],
   "source": [
    "if torch.cuda.is_available():\n",
    "  device = 'cuda' \n",
    "else:\n",
    "  device = 'cpu' "
   ]
  },
  {
   "cell_type": "code",
   "execution_count": 60,
   "id": "1547e1d2",
   "metadata": {},
   "outputs": [
    {
     "data": {
      "text/plain": [
       "Net(\n",
       "  (conv1): Conv2d(1, 32, kernel_size=(3, 3), stride=(1, 1))\n",
       "  (conv1_bn): BatchNorm2d(32, eps=1e-05, momentum=0.1, affine=True, track_running_stats=True)\n",
       "  (conv2): Conv2d(32, 32, kernel_size=(3, 3), stride=(1, 1))\n",
       "  (conv2_bn): BatchNorm2d(32, eps=1e-05, momentum=0.1, affine=True, track_running_stats=True)\n",
       "  (conv3): Conv2d(32, 64, kernel_size=(3, 3), stride=(1, 1))\n",
       "  (conv3_bn): BatchNorm2d(64, eps=1e-05, momentum=0.1, affine=True, track_running_stats=True)\n",
       "  (conv4): Conv2d(64, 64, kernel_size=(3, 3), stride=(1, 1))\n",
       "  (conv4_bn): BatchNorm2d(64, eps=1e-05, momentum=0.1, affine=True, track_running_stats=True)\n",
       "  (pool): MaxPool2d(kernel_size=2, stride=2, padding=0, dilation=1, ceil_mode=False)\n",
       "  (fc1): Linear(in_features=10816, out_features=128, bias=True)\n",
       "  (fc2): Linear(in_features=128, out_features=75, bias=True)\n",
       "  (dropOut): Dropout(p=0.2, inplace=False)\n",
       ")"
      ]
     },
     "execution_count": 60,
     "metadata": {},
     "output_type": "execute_result"
    }
   ],
   "source": [
    "import torch.nn as nn\n",
    "import torch.nn.functional as F\n",
    "\n",
    "\n",
    "class Net(nn.Module):\n",
    "    def __init__(self):\n",
    "        super(Net, self).__init__()\n",
    "        self.conv1 = nn.Conv2d(1, 32, 3)\n",
    "        self.conv1_bn = nn.BatchNorm2d(32)\n",
    "        self.conv2 = nn.Conv2d(32, 32, 3)\n",
    "        self.conv2_bn = nn.BatchNorm2d(32)\n",
    "        self.conv3 = nn.Conv2d(32, 64, 3)\n",
    "        self.conv3_bn = nn.BatchNorm2d(64)\n",
    "        self.conv4 = nn.Conv2d(64, 64, 3)\n",
    "        self.conv4_bn = nn.BatchNorm2d(64)\n",
    "        self.pool = nn.MaxPool2d(2, 2)\n",
    "        self.fc1 = nn.Linear(64 * 13 * 13, 128)\n",
    "        self.fc2 = nn.Linear(128, 75)\n",
    "        self.dropOut = nn.Dropout(0.2)\n",
    "\n",
    "    def forward(self, x):\n",
    "        x = F.relu(self.conv1_bn(self.conv1(x)))\n",
    "        x = self.dropOut(x)\n",
    "        x = F.relu(self.conv2_bn(self.conv2(x)))\n",
    "        x = self.dropOut(x)\n",
    "        x = F.max_pool2d(x, 2, 2)\n",
    "        x = self.dropOut(x)\n",
    "        x = F.relu(self.conv3_bn(self.conv3(x)))\n",
    "        x = self.dropOut(x)\n",
    "        x = F.relu(self.conv4_bn(self.conv4(x)))\n",
    "        x = self.dropOut(x)\n",
    "        x = F.max_pool2d(x, 2, 2)\n",
    "        x = x.view(-1, 64 * 13 * 13)\n",
    "        x = F.relu(self.fc1(x))\n",
    "        x = self.fc2(x)\n",
    "        return x\n",
    "device = 'cuda'\n",
    "\n",
    "model = Net()\n",
    "model.to(device)"
   ]
  },
  {
   "cell_type": "code",
   "execution_count": 33,
   "id": "dc09a129",
   "metadata": {},
   "outputs": [],
   "source": [
    "model = model.cuda()\n",
    "criterion = nn.CrossEntropyLoss()\n",
    "optimizer = torch.optim.Adam(model.parameters(), lr=0.00001)"
   ]
  },
  {
   "cell_type": "code",
   "execution_count": 35,
   "id": "08ad48da",
   "metadata": {},
   "outputs": [
    {
     "name": "stdout",
     "output_type": "stream",
     "text": [
      "Starting Epoch: 1...\n",
      "Epoch: 1, Mini-Batches Completed: 50, Loss: 0.025, Test Accuracy = 96.275%\n",
      "Epoch: 1, Mini-Batches Completed: 100, Loss: 0.024, Test Accuracy = 95.861%\n",
      "Epoch: 1, Mini-Batches Completed: 150, Loss: 0.023, Test Accuracy = 95.613%\n",
      "Epoch: 1, Mini-Batches Completed: 200, Loss: 0.027, Test Accuracy = 95.944%\n",
      "Epoch: 1, Mini-Batches Completed: 250, Loss: 0.025, Test Accuracy = 95.613%\n",
      "Epoch: 1, Mini-Batches Completed: 300, Loss: 0.021, Test Accuracy = 95.695%\n",
      "Starting Epoch: 2...\n",
      "Epoch: 2, Mini-Batches Completed: 50, Loss: 0.022, Test Accuracy = 96.109%\n",
      "Epoch: 2, Mini-Batches Completed: 100, Loss: 0.024, Test Accuracy = 96.026%\n",
      "Epoch: 2, Mini-Batches Completed: 150, Loss: 0.031, Test Accuracy = 96.109%\n",
      "Epoch: 2, Mini-Batches Completed: 200, Loss: 0.028, Test Accuracy = 96.109%\n",
      "Epoch: 2, Mini-Batches Completed: 250, Loss: 0.022, Test Accuracy = 95.778%\n",
      "Epoch: 2, Mini-Batches Completed: 300, Loss: 0.022, Test Accuracy = 95.944%\n",
      "Finished Training\n"
     ]
    }
   ],
   "source": [
    "epoch_log = []\n",
    "loss_log = []\n",
    "val_loss_log = []\n",
    "accuracy_log = []\n",
    "val_accuracy_log = []"
   ]
  },
  {
   "cell_type": "code",
   "execution_count": null,
   "id": "24ae3e0a",
   "metadata": {},
   "outputs": [],
   "source": [
    "epochs = 10\n",
    "    \n",
    "\n",
    "for epoch in range(epochs):  \n",
    "    print(f'Epoch: {epoch+1}')\n",
    "\n",
    "    running_loss = 0.0\n",
    "    running_correct = 0.0 \n",
    "    running_total = 0.0\n",
    "    actual_loss = 0.0\n",
    "    # loop over training batches\n",
    "    for i, data in enumerate(train_loader, 0):\n",
    "        inputs, labels = data\n",
    "\n",
    "        inputs = inputs.to(device)\n",
    "        labels = labels.to(device)\n",
    "\n",
    "        # clear gradients\n",
    "        optimizer.zero_grad()\n",
    "\n",
    "        # forward propagation\n",
    "        outputs = model(inputs)\n",
    "\n",
    "        # compute loss\n",
    "        loss =  criterion(outputs, labels)\n",
    "\n",
    "        # backward propagation\n",
    "        loss.backward()\n",
    "        optimizer.step()\n",
    "\n",
    "        # add batch loss to running loss\n",
    "        running_loss += loss.item()\n",
    "        _, predicted = torch.max(outputs.data, dim = 1)\n",
    "\n",
    "        running_total += labels.size(0)\n",
    "\n",
    "        running_correct += (predicted == labels).sum().item()\n",
    "\n",
    "        if i % 100 == 99:    \n",
    "            valcorrect = 0 \n",
    "            valtotal = 0 \n",
    "            running_val_loss = 0\n",
    "\n",
    "            with torch.no_grad():\n",
    "                for data in val_loader:\n",
    "\n",
    "                    # apply model to validation batch\n",
    "                    images, labels = data\n",
    "\n",
    "                    images = images.to(device)\n",
    "                    labels = labels.to(device)\n",
    "\n",
    "                    outputs = model(images)\n",
    "\n",
    "                    val_loss =  criterion(outputs, labels)\n",
    "\n",
    "                    _, predicted = torch.max(outputs.data, dim = 1)\n",
    "\n",
    "                    valtotal += labels.size(0)\n",
    "\n",
    "                    valcorrect += (predicted == labels).sum().item()\n",
    "                    \n",
    "                    running_val_loss += val_loss.item() \n",
    "\n",
    "                val_accuracy = 100 * valcorrect / valtotal\n",
    "                accuracy = 100 * running_correct / running_total\n",
    "                epoch_num = epoch + 1\n",
    "                \n",
    "                print(f'Epoch: {epoch_num}, Mini-Batches Completed: {(i+1)} Train Accuracy = {accuracy:.3f}%')\n",
    "                print(f'Epoch: {epoch_num}, Mini-Batches Completed: {(i+1)} Val Accuracy = {val_accuracy:.3f}%')\n",
    "                \n",
    "\n",
    "    actual_loss = running_loss / running_total\n",
    "    actual_val_loss = running_val_loss / valtotal\n",
    "    epoch_log.append(epoch_num)\n",
    "    loss_log.append(actual_loss)\n",
    "    val_loss_log.append(actual_val_loss)\n",
    "    accuracy_log.append(accuracy)\n",
    "    val_accuracy_log.append(val_accuracy)\n",
    "    print('\\n')\n",
    "    print(f\"Epoch {epoch_num} summary stats:\")\n",
    "    print(f'Train Loss: {actual_loss:.4f}, Train Accuracy = {accuracy:.3f}%')\n",
    "    print(f'Val Loss: {actual_val_loss:.4f}, Val Accuracy = {val_accuracy:.3f}%')\n",
    "    print('\\n')\n",
    "    print('\\n')"
   ]
  },
  {
   "cell_type": "code",
   "execution_count": 36,
   "id": "a3633394",
   "metadata": {},
   "outputs": [],
   "source": [
    "PATH = './hiragana_pytorch.pth'\n",
    "torch.save(model.state_dict(), PATH)"
   ]
  }
 ],
 "metadata": {
  "kernelspec": {
   "display_name": "Python 3 (ipykernel)",
   "language": "python",
   "name": "python3"
  },
  "language_info": {
   "codemirror_mode": {
    "name": "ipython",
    "version": 3
   },
   "file_extension": ".py",
   "mimetype": "text/x-python",
   "name": "python",
   "nbconvert_exporter": "python",
   "pygments_lexer": "ipython3",
   "version": "3.10.9"
  }
 },
 "nbformat": 4,
 "nbformat_minor": 5
}
